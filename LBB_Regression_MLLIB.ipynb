{
 "cells": [
  {
   "cell_type": "markdown",
   "metadata": {},
   "source": [
    "# 🏄 LBB: Predicting Credit Card Balance\n",
    "\n",
    "Suatu institusi perbankan multinasional ingin mempelajari faktor-faktor yang mempengaruhi **balance kartu kredit** pemegang kartunya menggunakan machine learning. Prediksi balance kartu kredit dapat memberikan manfaat yang signifikan bagi perbankan yaitu perbankan dapat meningkatkan kualitas layanan dan keuntungan. Analisis ini juga dapat membantu perusahaan untuk memahami perilaku pemegang kartu.\n"
   ]
  },
  {
   "cell_type": "markdown",
   "metadata": {},
   "source": [
    "## 1. Read data `credit card`\n",
    "\n",
    "Kita akan memahami konsep dasar dari linear regression dengan menggunakan data `credit_card.csv`, yaitu dataset yang terdiri dari informasi 310 pemegang kartu kredit di suatu perbankan."
   ]
  },
  {
   "cell_type": "code",
   "execution_count": 18,
   "metadata": {},
   "outputs": [],
   "source": [
    "from pyspark.sql import SparkSession\n",
    "from pyspark.sql.functions import col\n",
    "from pyspark.ml.feature import VectorAssembler, StringIndexer\n",
    "from pyspark.ml.regression import LinearRegression\n",
    "from pyspark.ml.evaluation import RegressionEvaluator\n",
    "from pyspark.ml.feature import StringIndexer, OneHotEncoder\n",
    "from pyspark.ml import Pipeline"
   ]
  },
  {
   "cell_type": "code",
   "execution_count": 5,
   "metadata": {},
   "outputs": [],
   "source": [
    "# code here\n",
    "from pyspark.sql import SparkSession\n",
    "\n",
    "spark = SparkSession.builder.appName(\"CreditCardBalancePrediction\").getOrCreate()"
   ]
  },
  {
   "cell_type": "code",
   "execution_count": 7,
   "metadata": {},
   "outputs": [],
   "source": [
    "file_path = \"data_input/credit_card.csv\"  # Sesuaikan path dengan lokasi file Anda\n",
    "credit_card= spark.read.csv(file_path, header=True, inferSchema=True)"
   ]
  },
  {
   "cell_type": "markdown",
   "metadata": {
    "vscode": {
     "languageId": "plaintext"
    }
   },
   "source": [
    "**Deskripsi:**\n",
    "\n",
    "- `Income`: Besaran gaji nasabah per tahun (dalam $100)\n",
    "- `Limit` : Besaran kredit limit\n",
    "- `Rating` : Skor yang diberikan kepada individu berdasarkan kelayakan kreditnya. Semakin besar maka semakin baik\n",
    "- `Cards` : Jumlah banyaknya kartu kredit yang dimiliki oleh nasabah\n",
    "- `Age` : Usia nasabah\n",
    "- `Education` : Level/lamanya pendidikan yang ditempuh oleh nasabah\n",
    "- `Gender`: Jenis kelamin nasabah\n",
    "    - Male\n",
    "    - Female\n",
    "- `Student` : Apakah nasabah seorang pelajar atau bukan\n",
    "    - Yes -> Pelajar\n",
    "    - No -> Bukan pelajar\n",
    "- `Married`: Status pernikahan\n",
    "    - Yes -> Sudah menikah\n",
    "    - No -> Belum menikah\n",
    "- `Ethnicity`: Etnis nasabah\n",
    "    - African American\n",
    "    - Asian\n",
    "    - Caucasian\n",
    "- `Balance`: Rata-rata pengeluaran dalam 3 bulan menggunakan kartu kredit\n",
    "\n",
    "**Asumsi data**: Balance dihitung sebagai rata-rata transaksi selama periode penagihan/billing cycle (dalam hal ini 3 bulan). Sebagai contoh, jika seorang pemegang kartu mengeluarkan `$400`, `$500`, dan `$600` dalam 3 bulan, maka Balance akan dicatat sebagai `$500`."
   ]
  },
  {
   "cell_type": "markdown",
   "metadata": {},
   "source": [
    "## 2. Data Pre-processing\n",
    "\n",
    "#### 1️⃣ Check Data Stucture and Data Types"
   ]
  },
  {
   "cell_type": "code",
   "execution_count": 11,
   "metadata": {},
   "outputs": [
    {
     "name": "stdout",
     "output_type": "stream",
     "text": [
      "+------------+-----+------+-----+---+---------+------+-------+-------+----------------+-------+\n",
      "|      Income|Limit|Rating|Cards|Age|Education|Gender|Student|Married|       Ethnicity|Balance|\n",
      "+------------+-----+------+-----+---+---------+------+-------+-------+----------------+-------+\n",
      "|  221.741881| 3606|   283|    2| 34|       11|  Male|     No|    Yes|       Caucasian|    333|\n",
      "|11241.300625| 6645|   483|    3| 82|       15|Female|    Yes|    Yes|           Asian|    903|\n",
      "|10939.695649| 7075|   514|    4| 71|       11|  Male|     No|     No|           Asian|    580|\n",
      "|22178.357776| 9504|   681|    3| 36|       11|Female|     No|     No|           Asian|    964|\n",
      "| 3122.797924| 4897|   357|    2| 68|       16|  Male|     No|    Yes|       Caucasian|    331|\n",
      "|   6428.8324| 8047|   569|    4| 77|       10|  Male|     No|     No|       Caucasian|   1151|\n",
      "|  440.832016| 3388|   259|    2| 37|       12|Female|     No|     No|African American|    203|\n",
      "| 5099.102464| 7114|   512|    2| 87|        9|  Male|     No|     No|           Asian|    872|\n",
      "|  228.765625| 3300|   266|    5| 66|       13|Female|     No|     No|       Caucasian|    279|\n",
      "| 5049.665721| 6819|   491|    3| 41|       19|Female|    Yes|    Yes|African American|   1350|\n",
      "| 3980.979025| 8117|   589|    4| 30|       14|  Male|     No|    Yes|       Caucasian|   1407|\n",
      "| 6498.939456| 5308|   394|    1| 57|        7|Female|     No|    Yes|           Asian|    204|\n",
      "| 1908.117124| 6922|   511|    1| 49|        9|  Male|     No|    Yes|       Caucasian|   1081|\n",
      "|  366.492736| 3291|   269|    2| 75|       13|Female|     No|     No|African American|    148|\n",
      "| 1331.958016| 4378|   339|    3| 69|       15|Female|     No|    Yes|           Asian|    368|\n",
      "|   2457.1849| 6384|   448|    1| 28|        9|Female|     No|    Yes|           Asian|    891|\n",
      "| 1770.642241| 6626|   479|    2| 44|        9|  Male|     No|     No|           Asian|   1048|\n",
      "|      313.29| 2860|   235|    4| 63|       16|Female|     No|     No|           Asian|     89|\n",
      "| 1394.873104| 6378|   458|    1| 72|       17|Female|     No|     No|       Caucasian|    968|\n",
      "| 4099.456729| 5179|   398|    5| 48|        8|  Male|     No|    Yes|African American|    411|\n",
      "+------------+-----+------+-----+---+---------+------+-------+-------+----------------+-------+\n",
      "only showing top 20 rows\n",
      "\n"
     ]
    }
   ],
   "source": [
    "# code here\n",
    "credit_card.show()\n"
   ]
  },
  {
   "cell_type": "code",
   "execution_count": 12,
   "metadata": {},
   "outputs": [
    {
     "name": "stdout",
     "output_type": "stream",
     "text": [
      "root\n",
      " |-- Income: double (nullable = true)\n",
      " |-- Limit: integer (nullable = true)\n",
      " |-- Rating: integer (nullable = true)\n",
      " |-- Cards: integer (nullable = true)\n",
      " |-- Age: integer (nullable = true)\n",
      " |-- Education: integer (nullable = true)\n",
      " |-- Gender: string (nullable = true)\n",
      " |-- Student: string (nullable = true)\n",
      " |-- Married: string (nullable = true)\n",
      " |-- Ethnicity: string (nullable = true)\n",
      " |-- Balance: integer (nullable = true)\n",
      "\n"
     ]
    }
   ],
   "source": [
    "credit_card.printSchema()"
   ]
  },
  {
   "cell_type": "markdown",
   "metadata": {},
   "source": [
    "### 2️⃣ Dummy Variable Encoding\n",
    "\n",
    "- **List categorical columns**"
   ]
  },
  {
   "cell_type": "code",
   "execution_count": 15,
   "metadata": {},
   "outputs": [
    {
     "name": "stdout",
     "output_type": "stream",
     "text": [
      "Kolom kategorikal: ['Gender', 'Student', 'Married', 'Ethnicity']\n"
     ]
    }
   ],
   "source": [
    "# code here\n",
    "categorical_columns = [col for col, dtype in credit_card.dtypes if dtype == \"string\"]\n",
    "\n",
    "# Menampilkan hasil\n",
    "print(\"Kolom kategorikal:\", categorical_columns)"
   ]
  },
  {
   "cell_type": "markdown",
   "metadata": {},
   "source": [
    "- **Buat list kosong untuk tahapan pipeline**"
   ]
  },
  {
   "cell_type": "code",
   "execution_count": 16,
   "metadata": {},
   "outputs": [
    {
     "name": "stdout",
     "output_type": "stream",
     "text": [
      "Pipeline stages initialized: []\n"
     ]
    }
   ],
   "source": [
    "# code here\n",
    "from pyspark.ml import Pipeline\n",
    "\n",
    "# Inisialisasi list kosong untuk tahapan pipeline\n",
    "pipeline_stages = []\n",
    "\n",
    "# Menampilkan hasil\n",
    "print(\"Pipeline stages initialized:\", pipeline_stages)\n"
   ]
  },
  {
   "cell_type": "markdown",
   "metadata": {},
   "source": [
    "- **Melakukan tahapan `StringIndexer` dan `OneHotEncoder`**"
   ]
  },
  {
   "cell_type": "code",
   "execution_count": null,
   "metadata": {},
   "outputs": [],
   "source": [
    "\n",
    "# Loop untuk setiap kolom kategorikal\n",
    "for col_name in categorical_columns:\n",
    "    # Tahap 1: StringIndexer untuk mengonversi kategori ke indeks numerik\n",
    "    indexer = StringIndexer(inputCol=col_name, outputCol=f\"{col_name}_index\")\n",
    "    \n",
    "    # Tahap 2: OneHotEncoder untuk mengubah indeks menjadi vektor biner\n",
    "    encoder = OneHotEncoder(inputCol=f\"{col_name}_index\", outputCol=f\"{col_name}_encoded\")\n",
    "    \n",
    "    # Tambahkan ke pipeline\n",
    "    pipeline_stages += [indexer, encoder]\n",
    "\n",
    "# Inisialisasi pipeline dengan tahapan yang sudah dibuat\n",
    "pipeline = Pipeline(stages=pipeline_stages)\n"
   ]
  },
  {
   "cell_type": "markdown",
   "metadata": {},
   "source": [
    "- **Membuat pipeline**"
   ]
  },
  {
   "cell_type": "code",
   "execution_count": null,
   "metadata": {},
   "outputs": [],
   "source": [
    "# code here\n"
   ]
  },
  {
   "cell_type": "markdown",
   "metadata": {},
   "source": [
    "- **Fit pipeline**"
   ]
  },
  {
   "cell_type": "code",
   "execution_count": null,
   "metadata": {},
   "outputs": [],
   "source": [
    "# code here\n"
   ]
  },
  {
   "cell_type": "markdown",
   "metadata": {},
   "source": [
    "### 3️⃣ Splitting Train-Test Data\n",
    "\n",
    "Silahkan untuk melakukan proses splitting data dengan kondisi sebagai berikut : \n",
    "- Proporsi split = 80:20\n",
    "- Seed = 123"
   ]
  },
  {
   "cell_type": "code",
   "execution_count": null,
   "metadata": {},
   "outputs": [],
   "source": [
    "# code here\n"
   ]
  },
  {
   "cell_type": "markdown",
   "metadata": {},
   "source": [
    "### 4️⃣ Feature Selection\n",
    "\n",
    "Melakukan pemilihan fitur dan menggabungkannya menjadi satu kesatuan vector dengan menggunakan `VectorAssembler()`"
   ]
  },
  {
   "cell_type": "markdown",
   "metadata": {},
   "source": [
    "- **List kolom predictor**"
   ]
  },
  {
   "cell_type": "code",
   "execution_count": null,
   "metadata": {},
   "outputs": [],
   "source": [
    "# code here\n"
   ]
  },
  {
   "cell_type": "markdown",
   "metadata": {},
   "source": [
    "- **Menggabungkan semua fitur**"
   ]
  },
  {
   "cell_type": "code",
   "execution_count": null,
   "metadata": {},
   "outputs": [],
   "source": [
    "# code here\n"
   ]
  },
  {
   "cell_type": "markdown",
   "metadata": {},
   "source": [
    "- **Transformasi data**"
   ]
  },
  {
   "cell_type": "code",
   "execution_count": null,
   "metadata": {},
   "outputs": [],
   "source": [
    "# code here\n"
   ]
  },
  {
   "cell_type": "markdown",
   "metadata": {},
   "source": [
    "## 3. Training Model Regression "
   ]
  },
  {
   "cell_type": "markdown",
   "metadata": {},
   "source": [
    "- **Membangun dan melatih model**"
   ]
  },
  {
   "cell_type": "code",
   "execution_count": null,
   "metadata": {},
   "outputs": [],
   "source": [
    "# code here\n"
   ]
  },
  {
   "cell_type": "markdown",
   "metadata": {},
   "source": [
    "- **Menampilkan hasil summary**"
   ]
  },
  {
   "cell_type": "code",
   "execution_count": null,
   "metadata": {},
   "outputs": [],
   "source": [
    "# code here\n"
   ]
  },
  {
   "cell_type": "markdown",
   "metadata": {},
   "source": [
    "## 4. Model Prediction"
   ]
  },
  {
   "cell_type": "markdown",
   "metadata": {},
   "source": [
    "- **Melakukan prediksi**"
   ]
  },
  {
   "cell_type": "code",
   "execution_count": null,
   "metadata": {},
   "outputs": [],
   "source": [
    "# code here\n"
   ]
  },
  {
   "cell_type": "markdown",
   "metadata": {},
   "source": [
    "- **Menampilkan hasil prediksi**"
   ]
  },
  {
   "cell_type": "code",
   "execution_count": null,
   "metadata": {},
   "outputs": [],
   "source": [
    "# code here\n"
   ]
  },
  {
   "cell_type": "markdown",
   "metadata": {},
   "source": [
    "## 5. Model Evaluation\n",
    "\n",
    "- **Menghitung nilai MAE**"
   ]
  },
  {
   "cell_type": "code",
   "execution_count": null,
   "metadata": {},
   "outputs": [],
   "source": [
    "# code here\n"
   ]
  },
  {
   "cell_type": "markdown",
   "metadata": {},
   "source": [
    "- **Menghitung nilai RMSE**"
   ]
  },
  {
   "cell_type": "code",
   "execution_count": null,
   "metadata": {},
   "outputs": [],
   "source": [
    "# code here\n"
   ]
  }
 ],
 "metadata": {
  "kernelspec": {
   "display_name": "Python 3",
   "language": "python",
   "name": "python3"
  },
  "language_info": {
   "codemirror_mode": {
    "name": "ipython",
    "version": 3
   },
   "file_extension": ".py",
   "mimetype": "text/x-python",
   "name": "python",
   "nbconvert_exporter": "python",
   "pygments_lexer": "ipython3",
   "version": "3.12.7"
  }
 },
 "nbformat": 4,
 "nbformat_minor": 2
}
